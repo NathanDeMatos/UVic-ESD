{
 "cells": [
  {
   "cell_type": "code",
   "execution_count": 2,
   "metadata": {},
   "outputs": [],
   "source": [
    "import pandas as pd\n",
    "from pathlib import Path"
   ]
  },
  {
   "cell_type": "code",
   "execution_count": 3,
   "metadata": {},
   "outputs": [],
   "source": [
    "model_inputs_in = Path().cwd() / \"model_inputs\"\n",
    "coders_path = Path().cwd() / \"coders_data_inventories\""
   ]
  },
  {
   "cell_type": "code",
   "execution_count": null,
   "metadata": {},
   "outputs": [],
   "source": [
    "def node_formatter(province):\n",
    "\n",
    "    # Matching node data from CODERS with format from SILVER\n",
    "\n",
    "    # data = Path().cwd() / \"files_needed_for_tool\"    \n",
    "\n",
    "    nodes_format = pd.read_excel(model_inputs_in / f\"model inputs - {province}.xlsx\", \"demand centres\")['bus'].drop_duplicates()\n",
    "    nodes_coders = pd.read_excel(coders_path / f'210818-{province}-DataInventory.xlsx', sheet_name='Nodes', header = 1).dropna(how='all')[['Node Name', 'Node Code']]\n",
    "\n",
    "    if province == 'AB':\n",
    "\n",
    "        # Reformatting data\n",
    "        nodes_coders['Node Name'] = nodes_coders['Node Name'].str.upper()\n",
    "        nodes_coders['Node Name'] = nodes_coders['Node Name'].str.replace(' ', \"\")\n",
    "        nodes = pd.merge(nodes_coders, nodes_format, left_on='Node Name', right_on='bus')\n",
    "        nodes = pd.concat([nodes, nodes_coders.loc[nodes_coders['Node Name'].isin(['CASTLEDOWNS557S','DOME665S', 'GENESEE330P', 'NEWELL2075S', 'PETROLIA816S'])]])\n",
    "\n",
    "        # Renaming to match demand centres\n",
    "        nodes.loc[nodes['Node Name'] == 'CASTLEDOWNS557S', 'Node Name'] = 'CASTLEDOWNS'\n",
    "        nodes.loc[nodes['Node Name'] == 'DOME665S', 'Node Name'] = 'DOME'\n",
    "        nodes.loc[nodes['Node Name'] == 'GENESEE330P', 'Node Name'] = 'GENESEE330'\n",
    "        nodes.loc[nodes['Node Name'] == 'NEWELL2075S', 'Node Name'] = 'NEWELL2075S89S'\n",
    "        nodes.loc[nodes['Node Name'] == 'PETROLIA816S', 'Node Name'] = 'PETROLIA'\n",
    "\n",
    "        nodes['bus'] = nodes['Node Name']\n",
    "        nodes = nodes.drop('Node Name', axis=1).reset_index(drop=True)\n",
    "\n",
    "\n",
    "    elif province == 'BC':\n",
    "       # Add acronyms to beginnings of CODERS names\n",
    "        for index, value in nodes_format.iteritems():\n",
    "\n",
    "            remove_acronym = value.partition(' - ')[2]\n",
    "\n",
    "            nodes_coders.loc[nodes_coders['Node Name'] == remove_acronym, 'Node Name'] = value\n",
    "\n",
    "        nodes = pd.merge(nodes_coders, nodes_format, left_on='Node Name', right_on='bus')\n",
    "        nodes = pd.concat([nodes, nodes_coders.loc[nodes_coders['Node Name'].isin(['Kennedy'])]])\n",
    "\n",
    "        nodes.loc[nodes['Node Name']=='Kennedy', 'bus'] = 'KDY - Kennedy Capacitor Station'\n",
    "        nodes = nodes.drop('Node Name', axis=1).reset_index(drop=True).sort_index()\n",
    "\n",
    "    elif province == 'MB':\n",
    "\n",
    "        nodes_format = nodes_format.str.strip()\n",
    "        nodes_coders['Node Name'] = nodes_coders['Node Name'].str.upper()\n",
    "        nodes_coders['Node Name'] = nodes_coders['Node Name'].str.strip() \n",
    "        nodes = pd.merge(nodes_coders, nodes_format, left_on='Node Name', right_on='bus')\n",
    "        nodes = pd.concat([nodes, nodes_coders.loc[nodes_coders['Node Name'] == 'KELSEY TS']])\n",
    "        \n",
    "        nodes.loc[nodes['Node Name'] == 'KELSEY TS', 'Node Name'] = 'KELSEY TERMINAL'\n",
    "        nodes['bus'] = nodes['Node Name']\n",
    "        nodes = nodes.drop('Node Name', axis=1).reset_index(drop=True)\n",
    "\n",
    "    # Saskatchewan nodes are already in a matching format\n",
    "    elif province == 'SK':\n",
    "\n",
    "        nodes = pd.merge(nodes_coders, nodes_format, left_on='Node Name', right_on='bus').drop('Node Name', axis = 1).reset_index(drop=True)\n",
    "        nodes = pd.concat([nodes, nodes_coders.loc[nodes_coders['Node Name'] == 'Regina South']])\n",
    "        nodes['bus'] = nodes['Node Name']\n",
    "        nodes = nodes.drop('Node Name', axis=1).reset_index(drop=True)\n",
    "        pass\n",
    "\n",
    "    \n",
    "    if len(nodes) != len(nodes_format):\n",
    "        print(\"Some nodes were lost: \\n\")\n",
    "        # print(nodes['bus'].compare(nodes_format))\n",
    "    \n",
    "    return nodes"
   ]
  },
  {
   "cell_type": "markdown",
   "metadata": {},
   "source": [
    "## Dictionary Method"
   ]
  },
  {
   "cell_type": "code",
   "execution_count": null,
   "metadata": {},
   "outputs": [],
   "source": [
    "nodes_map = pd.read_csv(Path().cwd() / \"node_connections_BC.csv\",\n",
    "                        index_col=0)\n",
    "\n",
    "mapping_df = pd.read_excel(coders_path / \"210818-BC-DataInventory.xlsx\",\n",
    "                           sheet_name=\"Nodes\",\n",
    "                           header=1,\n",
    "                           usecols=[\"Node Code\", \"Node Name\"]).dropna()\n",
    "\n",
    "node_codes = mapping_df[\"Node Code\"].values\n",
    "coders_names = mapping_df[\"Node Name\"].values\n",
    "silver_nodes = pd.read_excel(model_inputs_in / \"model inputs - BC.xlsx\", \"demand centres\")['bus'].drop_duplicates().values\n",
    "\n",
    "code_to_coders_name = dict(zip(node_codes, coders_names))\n",
    "\n",
    "# Change to full coders names\n",
    "full_name_connections = nodes_map.rename(columns=code_to_coders_name, index=code_to_coders_name)\n",
    "coders_name_to_silver = dict.fromkeys(coders_names)\n",
    "\n",
    "for x in silver_nodes:\n",
    "\n",
    "    coders_name_to_silver[x.partition(' - ')[2]] = x\n",
    "\n",
    "coders_name_to_silver = {x:y for x,y in coders_name_to_silver.items() if y is not None}\n",
    "\n",
    "# Correct one node\n",
    "coders_name_to_silver[\"Kennedy\"] = coders_name_to_silver.pop(\"Kennedy Capacitor Station\")\n",
    "silver_connections = full_name_connections.rename(columns=coders_name_to_silver, index=coders_name_to_silver).loc[silver_nodes, silver_nodes]\n",
    "\n",
    "# Check that nodes were not lost\n",
    "len(silver_nodes) == len(silver_connections)"
   ]
  }
 ],
 "metadata": {
  "kernelspec": {
   "display_name": "Python 3.10.4 ('data_env')",
   "language": "python",
   "name": "python3"
  },
  "language_info": {
   "codemirror_mode": {
    "name": "ipython",
    "version": 3
   },
   "file_extension": ".py",
   "mimetype": "text/x-python",
   "name": "python",
   "nbconvert_exporter": "python",
   "pygments_lexer": "ipython3",
   "version": "3.10.4"
  },
  "orig_nbformat": 4,
  "vscode": {
   "interpreter": {
    "hash": "10064f61d91b8972446ae756350cc8483b279825c14674545960a0d9ed454ad2"
   }
  }
 },
 "nbformat": 4,
 "nbformat_minor": 2
}
